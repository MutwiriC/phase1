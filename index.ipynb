{
 "cells": [
  {
   "cell_type": "markdown",
   "id": "a502d6da",
   "metadata": {},
   "source": [
    "## 1. Import Libraries"
   ]
  },
  {
   "cell_type": "code",
   "execution_count": 1,
   "id": "fec383c4",
   "metadata": {},
   "outputs": [],
   "source": [
    "import pandas as pd\n",
    "import matplotlib.pyplot as plt\n",
    "import numpy as np\n",
    "import seaborn as sns\n",
    "import datetime as datetime"
   ]
  },
  {
   "cell_type": "markdown",
   "id": "8e378b11",
   "metadata": {},
   "source": [
    "## 2. Data Loading and Exploration"
   ]
  },
  {
   "cell_type": "code",
   "execution_count": 2,
   "id": "b5574486",
   "metadata": {},
   "outputs": [
    {
     "name": "stderr",
     "output_type": "stream",
     "text": [
      "<ipython-input-2-3ba06f978a03>:2: DtypeWarning: Columns (6,7,28) have mixed types. Specify dtype option on import or set low_memory=False.\n",
      "  df = pd.read_csv('Aviation_Data.csv')\n"
     ]
    }
   ],
   "source": [
    "#load dataset\n",
    "df = pd.read_csv('Aviation_Data.csv')\n"
   ]
  },
  {
   "cell_type": "code",
   "execution_count": 3,
   "id": "6c480973",
   "metadata": {},
   "outputs": [
    {
     "name": "stdout",
     "output_type": "stream",
     "text": [
      "Dataset Shape:\n",
      " (90348, 31)\n"
     ]
    }
   ],
   "source": [
    "#understanding dataset\n",
    "print('Dataset Shape:\\n', df.shape)\n"
   ]
  },
  {
   "cell_type": "code",
   "execution_count": 4,
   "id": "7db5edfc",
   "metadata": {},
   "outputs": [
    {
     "name": "stdout",
     "output_type": "stream",
     "text": [
      "Dataset Columns: \n",
      " ['Event.Id', 'Investigation.Type', 'Accident.Number', 'Event.Date', 'Location', 'Country', 'Latitude', 'Longitude', 'Airport.Code', 'Airport.Name', 'Injury.Severity', 'Aircraft.damage', 'Aircraft.Category', 'Registration.Number', 'Make', 'Model', 'Amateur.Built', 'Number.of.Engines', 'Engine.Type', 'FAR.Description', 'Schedule', 'Purpose.of.flight', 'Air.carrier', 'Total.Fatal.Injuries', 'Total.Serious.Injuries', 'Total.Minor.Injuries', 'Total.Uninjured', 'Weather.Condition', 'Broad.phase.of.flight', 'Report.Status', 'Publication.Date']\n"
     ]
    }
   ],
   "source": [
    "#dataset columns \n",
    "print('Dataset Columns: \\n', df.columns.tolist())"
   ]
  },
  {
   "cell_type": "code",
   "execution_count": 5,
   "id": "c510a8f6",
   "metadata": {},
   "outputs": [
    {
     "name": "stdout",
     "output_type": "stream",
     "text": [
      "<class 'pandas.core.frame.DataFrame'>\n",
      "RangeIndex: 90348 entries, 0 to 90347\n",
      "Data columns (total 31 columns):\n",
      " #   Column                  Non-Null Count  Dtype  \n",
      "---  ------                  --------------  -----  \n",
      " 0   Event.Id                88889 non-null  object \n",
      " 1   Investigation.Type      90348 non-null  object \n",
      " 2   Accident.Number         88889 non-null  object \n",
      " 3   Event.Date              88889 non-null  object \n",
      " 4   Location                88837 non-null  object \n",
      " 5   Country                 88663 non-null  object \n",
      " 6   Latitude                34382 non-null  object \n",
      " 7   Longitude               34373 non-null  object \n",
      " 8   Airport.Code            50249 non-null  object \n",
      " 9   Airport.Name            52790 non-null  object \n",
      " 10  Injury.Severity         87889 non-null  object \n",
      " 11  Aircraft.damage         85695 non-null  object \n",
      " 12  Aircraft.Category       32287 non-null  object \n",
      " 13  Registration.Number     87572 non-null  object \n",
      " 14  Make                    88826 non-null  object \n",
      " 15  Model                   88797 non-null  object \n",
      " 16  Amateur.Built           88787 non-null  object \n",
      " 17  Number.of.Engines       82805 non-null  float64\n",
      " 18  Engine.Type             81812 non-null  object \n",
      " 19  FAR.Description         32023 non-null  object \n",
      " 20  Schedule                12582 non-null  object \n",
      " 21  Purpose.of.flight       82697 non-null  object \n",
      " 22  Air.carrier             16648 non-null  object \n",
      " 23  Total.Fatal.Injuries    77488 non-null  float64\n",
      " 24  Total.Serious.Injuries  76379 non-null  float64\n",
      " 25  Total.Minor.Injuries    76956 non-null  float64\n",
      " 26  Total.Uninjured         82977 non-null  float64\n",
      " 27  Weather.Condition       84397 non-null  object \n",
      " 28  Broad.phase.of.flight   61724 non-null  object \n",
      " 29  Report.Status           82508 non-null  object \n",
      " 30  Publication.Date        73659 non-null  object \n",
      "dtypes: float64(5), object(26)\n",
      "memory usage: 21.4+ MB\n",
      "Dataset Basic info: \n",
      "  None\n"
     ]
    }
   ],
   "source": [
    "print('Dataset Basic info: \\n ', df.info())"
   ]
  },
  {
   "cell_type": "code",
   "execution_count": 6,
   "id": "218afbab",
   "metadata": {},
   "outputs": [
    {
     "name": "stdout",
     "output_type": "stream",
     "text": [
      "Database Data Type: \n",
      "\n"
     ]
    },
    {
     "data": {
      "application/vnd.microsoft.datawrangler.viewer.v0+json": {
       "columns": [
        {
         "name": "index",
         "rawType": "object",
         "type": "string"
        },
        {
         "name": "0",
         "rawType": "object",
         "type": "string"
        }
       ],
       "ref": "4fede7d1-3bb8-4573-8c30-47e5e0f99089",
       "rows": [
        [
         "Event.Id",
         "object"
        ],
        [
         "Investigation.Type",
         "object"
        ],
        [
         "Accident.Number",
         "object"
        ],
        [
         "Event.Date",
         "object"
        ],
        [
         "Location",
         "object"
        ],
        [
         "Country",
         "object"
        ],
        [
         "Latitude",
         "object"
        ],
        [
         "Longitude",
         "object"
        ],
        [
         "Airport.Code",
         "object"
        ],
        [
         "Airport.Name",
         "object"
        ],
        [
         "Injury.Severity",
         "object"
        ],
        [
         "Aircraft.damage",
         "object"
        ],
        [
         "Aircraft.Category",
         "object"
        ],
        [
         "Registration.Number",
         "object"
        ],
        [
         "Make",
         "object"
        ],
        [
         "Model",
         "object"
        ],
        [
         "Amateur.Built",
         "object"
        ],
        [
         "Number.of.Engines",
         "float64"
        ],
        [
         "Engine.Type",
         "object"
        ],
        [
         "FAR.Description",
         "object"
        ],
        [
         "Schedule",
         "object"
        ],
        [
         "Purpose.of.flight",
         "object"
        ],
        [
         "Air.carrier",
         "object"
        ],
        [
         "Total.Fatal.Injuries",
         "float64"
        ],
        [
         "Total.Serious.Injuries",
         "float64"
        ],
        [
         "Total.Minor.Injuries",
         "float64"
        ],
        [
         "Total.Uninjured",
         "float64"
        ],
        [
         "Weather.Condition",
         "object"
        ],
        [
         "Broad.phase.of.flight",
         "object"
        ],
        [
         "Report.Status",
         "object"
        ],
        [
         "Publication.Date",
         "object"
        ]
       ],
       "shape": {
        "columns": 1,
        "rows": 31
       }
      },
      "text/plain": [
       "Event.Id                   object\n",
       "Investigation.Type         object\n",
       "Accident.Number            object\n",
       "Event.Date                 object\n",
       "Location                   object\n",
       "Country                    object\n",
       "Latitude                   object\n",
       "Longitude                  object\n",
       "Airport.Code               object\n",
       "Airport.Name               object\n",
       "Injury.Severity            object\n",
       "Aircraft.damage            object\n",
       "Aircraft.Category          object\n",
       "Registration.Number        object\n",
       "Make                       object\n",
       "Model                      object\n",
       "Amateur.Built              object\n",
       "Number.of.Engines         float64\n",
       "Engine.Type                object\n",
       "FAR.Description            object\n",
       "Schedule                   object\n",
       "Purpose.of.flight          object\n",
       "Air.carrier                object\n",
       "Total.Fatal.Injuries      float64\n",
       "Total.Serious.Injuries    float64\n",
       "Total.Minor.Injuries      float64\n",
       "Total.Uninjured           float64\n",
       "Weather.Condition          object\n",
       "Broad.phase.of.flight      object\n",
       "Report.Status              object\n",
       "Publication.Date           object\n",
       "dtype: object"
      ]
     },
     "execution_count": 6,
     "metadata": {},
     "output_type": "execute_result"
    }
   ],
   "source": [
    "print('Database Data Type: \\n')\n",
    "df.dtypes"
   ]
  },
  {
   "cell_type": "markdown",
   "id": "59f0883b",
   "metadata": {},
   "source": [
    "Our dataset has 90348 rows and 31 columns.  \n",
    "Some columns have missing values.  "
   ]
  },
  {
   "cell_type": "markdown",
   "id": "013799b3",
   "metadata": {},
   "source": [
    "## 3. Data Cleaning"
   ]
  },
  {
   "cell_type": "markdown",
   "id": "b13a79d4",
   "metadata": {},
   "source": [
    "We are going to clean the columns we need for this analysis"
   ]
  },
  {
   "cell_type": "code",
   "execution_count": 7,
   "id": "3e1a21b4",
   "metadata": {},
   "outputs": [],
   "source": [
    "# Critical columns for our safety analysis\n",
    "essential_columns = [\n",
    "    'Event.Id',           # Unique identifier\n",
    "    'Event.Date',         # For time trends\n",
    "    'Make',               # Aircraft manufacturer\n",
    "    'Model',              # Aircraft model\n",
    "    'Aircraft.Category',  # Type of aircraft\n",
    "    'Injury.Severity',    # Accident severity\n",
    "    'Total.Fatal.Injuries',     # Safety metric\n",
    "    'Total.Serious.Injuries',   # Safety metric  \n",
    "    'Total.Minor.Injuries',     # Safety metric\n",
    "    'Total.Uninjured',          # Safety metric\n",
    "    'Aircraft.damage',    # Damage level\n",
    "    'Broad.phase.of.flight',    # When accidents happen\n",
    "    'Weather.Condition',  # Environmental factors\n",
    "    'Purpose.of.flight',  # Type of operation\n",
    "    'Number.of.Engines',  # Technical specs\n",
    "    'Engine.Type'         # Technical specs\n",
    "]"
   ]
  },
  {
   "cell_type": "code",
   "execution_count": 8,
   "id": "bd4a25a6",
   "metadata": {},
   "outputs": [
    {
     "name": "stdout",
     "output_type": "stream",
     "text": [
      "We will be analysing 16 out of 31 columns\n"
     ]
    }
   ],
   "source": [
    "print('We will be analysing', len(essential_columns), 'out of', len(df.columns), 'columns')"
   ]
  },
  {
   "cell_type": "code",
   "execution_count": 9,
   "id": "07f72def",
   "metadata": {},
   "outputs": [
    {
     "data": {
      "application/vnd.microsoft.datawrangler.viewer.v0+json": {
       "columns": [
        {
         "name": "index",
         "rawType": "int64",
         "type": "integer"
        },
        {
         "name": "Event.Id",
         "rawType": "object",
         "type": "string"
        },
        {
         "name": "Event.Date",
         "rawType": "object",
         "type": "string"
        },
        {
         "name": "Make",
         "rawType": "object",
         "type": "string"
        },
        {
         "name": "Model",
         "rawType": "object",
         "type": "string"
        },
        {
         "name": "Aircraft.Category",
         "rawType": "object",
         "type": "string"
        },
        {
         "name": "Injury.Severity",
         "rawType": "object",
         "type": "string"
        },
        {
         "name": "Total.Fatal.Injuries",
         "rawType": "float64",
         "type": "float"
        },
        {
         "name": "Total.Serious.Injuries",
         "rawType": "float64",
         "type": "float"
        },
        {
         "name": "Total.Minor.Injuries",
         "rawType": "float64",
         "type": "float"
        },
        {
         "name": "Total.Uninjured",
         "rawType": "float64",
         "type": "float"
        },
        {
         "name": "Aircraft.damage",
         "rawType": "object",
         "type": "string"
        },
        {
         "name": "Broad.phase.of.flight",
         "rawType": "object",
         "type": "string"
        },
        {
         "name": "Weather.Condition",
         "rawType": "object",
         "type": "string"
        },
        {
         "name": "Purpose.of.flight",
         "rawType": "object",
         "type": "string"
        },
        {
         "name": "Number.of.Engines",
         "rawType": "float64",
         "type": "float"
        },
        {
         "name": "Engine.Type",
         "rawType": "object",
         "type": "string"
        }
       ],
       "ref": "ac9f4e4d-72ed-491f-b52c-54d417abeecf",
       "rows": [
        [
         "0",
         "20001218X45444",
         "1948-10-24",
         "Stinson",
         "108-3",
         null,
         "Fatal(2)",
         "2.0",
         "0.0",
         "0.0",
         "0.0",
         "Destroyed",
         "Cruise",
         "UNK",
         "Personal",
         "1.0",
         "Reciprocating"
        ],
        [
         "1",
         "20001218X45447",
         "1962-07-19",
         "Piper",
         "PA24-180",
         null,
         "Fatal(4)",
         "4.0",
         "0.0",
         "0.0",
         "0.0",
         "Destroyed",
         "Unknown",
         "UNK",
         "Personal",
         "1.0",
         "Reciprocating"
        ],
        [
         "2",
         "20061025X01555",
         "1974-08-30",
         "Cessna",
         "172M",
         null,
         "Fatal(3)",
         "3.0",
         null,
         null,
         null,
         "Destroyed",
         "Cruise",
         "IMC",
         "Personal",
         "1.0",
         "Reciprocating"
        ],
        [
         "3",
         "20001218X45448",
         "1977-06-19",
         "Rockwell",
         "112",
         null,
         "Fatal(2)",
         "2.0",
         "0.0",
         "0.0",
         "0.0",
         "Destroyed",
         "Cruise",
         "IMC",
         "Personal",
         "1.0",
         "Reciprocating"
        ],
        [
         "4",
         "20041105X01764",
         "1979-08-02",
         "Cessna",
         "501",
         null,
         "Fatal(1)",
         "1.0",
         "2.0",
         null,
         "0.0",
         "Destroyed",
         "Approach",
         "VMC",
         "Personal",
         null,
         null
        ]
       ],
       "shape": {
        "columns": 16,
        "rows": 5
       }
      },
      "text/html": [
       "<div>\n",
       "<style scoped>\n",
       "    .dataframe tbody tr th:only-of-type {\n",
       "        vertical-align: middle;\n",
       "    }\n",
       "\n",
       "    .dataframe tbody tr th {\n",
       "        vertical-align: top;\n",
       "    }\n",
       "\n",
       "    .dataframe thead th {\n",
       "        text-align: right;\n",
       "    }\n",
       "</style>\n",
       "<table border=\"1\" class=\"dataframe\">\n",
       "  <thead>\n",
       "    <tr style=\"text-align: right;\">\n",
       "      <th></th>\n",
       "      <th>Event.Id</th>\n",
       "      <th>Event.Date</th>\n",
       "      <th>Make</th>\n",
       "      <th>Model</th>\n",
       "      <th>Aircraft.Category</th>\n",
       "      <th>Injury.Severity</th>\n",
       "      <th>Total.Fatal.Injuries</th>\n",
       "      <th>Total.Serious.Injuries</th>\n",
       "      <th>Total.Minor.Injuries</th>\n",
       "      <th>Total.Uninjured</th>\n",
       "      <th>Aircraft.damage</th>\n",
       "      <th>Broad.phase.of.flight</th>\n",
       "      <th>Weather.Condition</th>\n",
       "      <th>Purpose.of.flight</th>\n",
       "      <th>Number.of.Engines</th>\n",
       "      <th>Engine.Type</th>\n",
       "    </tr>\n",
       "  </thead>\n",
       "  <tbody>\n",
       "    <tr>\n",
       "      <th>0</th>\n",
       "      <td>20001218X45444</td>\n",
       "      <td>1948-10-24</td>\n",
       "      <td>Stinson</td>\n",
       "      <td>108-3</td>\n",
       "      <td>NaN</td>\n",
       "      <td>Fatal(2)</td>\n",
       "      <td>2.0</td>\n",
       "      <td>0.0</td>\n",
       "      <td>0.0</td>\n",
       "      <td>0.0</td>\n",
       "      <td>Destroyed</td>\n",
       "      <td>Cruise</td>\n",
       "      <td>UNK</td>\n",
       "      <td>Personal</td>\n",
       "      <td>1.0</td>\n",
       "      <td>Reciprocating</td>\n",
       "    </tr>\n",
       "    <tr>\n",
       "      <th>1</th>\n",
       "      <td>20001218X45447</td>\n",
       "      <td>1962-07-19</td>\n",
       "      <td>Piper</td>\n",
       "      <td>PA24-180</td>\n",
       "      <td>NaN</td>\n",
       "      <td>Fatal(4)</td>\n",
       "      <td>4.0</td>\n",
       "      <td>0.0</td>\n",
       "      <td>0.0</td>\n",
       "      <td>0.0</td>\n",
       "      <td>Destroyed</td>\n",
       "      <td>Unknown</td>\n",
       "      <td>UNK</td>\n",
       "      <td>Personal</td>\n",
       "      <td>1.0</td>\n",
       "      <td>Reciprocating</td>\n",
       "    </tr>\n",
       "    <tr>\n",
       "      <th>2</th>\n",
       "      <td>20061025X01555</td>\n",
       "      <td>1974-08-30</td>\n",
       "      <td>Cessna</td>\n",
       "      <td>172M</td>\n",
       "      <td>NaN</td>\n",
       "      <td>Fatal(3)</td>\n",
       "      <td>3.0</td>\n",
       "      <td>NaN</td>\n",
       "      <td>NaN</td>\n",
       "      <td>NaN</td>\n",
       "      <td>Destroyed</td>\n",
       "      <td>Cruise</td>\n",
       "      <td>IMC</td>\n",
       "      <td>Personal</td>\n",
       "      <td>1.0</td>\n",
       "      <td>Reciprocating</td>\n",
       "    </tr>\n",
       "    <tr>\n",
       "      <th>3</th>\n",
       "      <td>20001218X45448</td>\n",
       "      <td>1977-06-19</td>\n",
       "      <td>Rockwell</td>\n",
       "      <td>112</td>\n",
       "      <td>NaN</td>\n",
       "      <td>Fatal(2)</td>\n",
       "      <td>2.0</td>\n",
       "      <td>0.0</td>\n",
       "      <td>0.0</td>\n",
       "      <td>0.0</td>\n",
       "      <td>Destroyed</td>\n",
       "      <td>Cruise</td>\n",
       "      <td>IMC</td>\n",
       "      <td>Personal</td>\n",
       "      <td>1.0</td>\n",
       "      <td>Reciprocating</td>\n",
       "    </tr>\n",
       "    <tr>\n",
       "      <th>4</th>\n",
       "      <td>20041105X01764</td>\n",
       "      <td>1979-08-02</td>\n",
       "      <td>Cessna</td>\n",
       "      <td>501</td>\n",
       "      <td>NaN</td>\n",
       "      <td>Fatal(1)</td>\n",
       "      <td>1.0</td>\n",
       "      <td>2.0</td>\n",
       "      <td>NaN</td>\n",
       "      <td>0.0</td>\n",
       "      <td>Destroyed</td>\n",
       "      <td>Approach</td>\n",
       "      <td>VMC</td>\n",
       "      <td>Personal</td>\n",
       "      <td>NaN</td>\n",
       "      <td>NaN</td>\n",
       "    </tr>\n",
       "  </tbody>\n",
       "</table>\n",
       "</div>"
      ],
      "text/plain": [
       "         Event.Id  Event.Date      Make     Model Aircraft.Category  \\\n",
       "0  20001218X45444  1948-10-24   Stinson     108-3               NaN   \n",
       "1  20001218X45447  1962-07-19     Piper  PA24-180               NaN   \n",
       "2  20061025X01555  1974-08-30    Cessna      172M               NaN   \n",
       "3  20001218X45448  1977-06-19  Rockwell       112               NaN   \n",
       "4  20041105X01764  1979-08-02    Cessna       501               NaN   \n",
       "\n",
       "  Injury.Severity  Total.Fatal.Injuries  Total.Serious.Injuries  \\\n",
       "0        Fatal(2)                   2.0                     0.0   \n",
       "1        Fatal(4)                   4.0                     0.0   \n",
       "2        Fatal(3)                   3.0                     NaN   \n",
       "3        Fatal(2)                   2.0                     0.0   \n",
       "4        Fatal(1)                   1.0                     2.0   \n",
       "\n",
       "   Total.Minor.Injuries  Total.Uninjured Aircraft.damage  \\\n",
       "0                   0.0              0.0       Destroyed   \n",
       "1                   0.0              0.0       Destroyed   \n",
       "2                   NaN              NaN       Destroyed   \n",
       "3                   0.0              0.0       Destroyed   \n",
       "4                   NaN              0.0       Destroyed   \n",
       "\n",
       "  Broad.phase.of.flight Weather.Condition Purpose.of.flight  \\\n",
       "0                Cruise               UNK          Personal   \n",
       "1               Unknown               UNK          Personal   \n",
       "2                Cruise               IMC          Personal   \n",
       "3                Cruise               IMC          Personal   \n",
       "4              Approach               VMC          Personal   \n",
       "\n",
       "   Number.of.Engines    Engine.Type  \n",
       "0                1.0  Reciprocating  \n",
       "1                1.0  Reciprocating  \n",
       "2                1.0  Reciprocating  \n",
       "3                1.0  Reciprocating  \n",
       "4                NaN            NaN  "
      ]
     },
     "execution_count": 9,
     "metadata": {},
     "output_type": "execute_result"
    }
   ],
   "source": [
    "#create a new dataframe with the necessary columns only\n",
    "df_clean = df[essential_columns].copy()\n",
    "df_clean.head()"
   ]
  },
  {
   "cell_type": "code",
   "execution_count": 10,
   "id": "f281e1df",
   "metadata": {},
   "outputs": [
    {
     "name": "stdout",
     "output_type": "stream",
     "text": [
      "Missing values per column\n"
     ]
    },
    {
     "data": {
      "application/vnd.microsoft.datawrangler.viewer.v0+json": {
       "columns": [
        {
         "name": "index",
         "rawType": "object",
         "type": "string"
        },
        {
         "name": "0",
         "rawType": "int64",
         "type": "integer"
        }
       ],
       "ref": "b62d29ee-6bb5-4046-bb05-5c3e7b597c3a",
       "rows": [
        [
         "Event.Id",
         "1459"
        ],
        [
         "Event.Date",
         "1459"
        ],
        [
         "Make",
         "1522"
        ],
        [
         "Model",
         "1551"
        ],
        [
         "Aircraft.Category",
         "58061"
        ],
        [
         "Injury.Severity",
         "2459"
        ],
        [
         "Total.Fatal.Injuries",
         "12860"
        ],
        [
         "Total.Serious.Injuries",
         "13969"
        ],
        [
         "Total.Minor.Injuries",
         "13392"
        ],
        [
         "Total.Uninjured",
         "7371"
        ],
        [
         "Aircraft.damage",
         "4653"
        ],
        [
         "Broad.phase.of.flight",
         "28624"
        ],
        [
         "Weather.Condition",
         "5951"
        ],
        [
         "Purpose.of.flight",
         "7651"
        ],
        [
         "Number.of.Engines",
         "7543"
        ],
        [
         "Engine.Type",
         "8536"
        ]
       ],
       "shape": {
        "columns": 1,
        "rows": 16
       }
      },
      "text/plain": [
       "Event.Id                   1459\n",
       "Event.Date                 1459\n",
       "Make                       1522\n",
       "Model                      1551\n",
       "Aircraft.Category         58061\n",
       "Injury.Severity            2459\n",
       "Total.Fatal.Injuries      12860\n",
       "Total.Serious.Injuries    13969\n",
       "Total.Minor.Injuries      13392\n",
       "Total.Uninjured            7371\n",
       "Aircraft.damage            4653\n",
       "Broad.phase.of.flight     28624\n",
       "Weather.Condition          5951\n",
       "Purpose.of.flight          7651\n",
       "Number.of.Engines          7543\n",
       "Engine.Type                8536\n",
       "dtype: int64"
      ]
     },
     "execution_count": 10,
     "metadata": {},
     "output_type": "execute_result"
    }
   ],
   "source": [
    "#finding column with missing values\n",
    "print('Missing values per column')\n",
    "\n",
    "missing = df_clean.isnull().sum()\n",
    "missing\n"
   ]
  },
  {
   "cell_type": "code",
   "execution_count": 11,
   "id": "567b9d0f",
   "metadata": {},
   "outputs": [
    {
     "name": "stdout",
     "output_type": "stream",
     "text": [
      "missing value percentage \n",
      " Aircraft.Category         64.26\n",
      "Broad.phase.of.flight     31.68\n",
      "Total.Serious.Injuries    15.46\n",
      "Total.Minor.Injuries      14.82\n",
      "Total.Fatal.Injuries      14.23\n",
      "Engine.Type                9.45\n",
      "Purpose.of.flight          8.47\n",
      "Number.of.Engines          8.35\n",
      "Total.Uninjured            8.16\n",
      "Weather.Condition          6.59\n",
      "Aircraft.damage            5.15\n",
      "Injury.Severity            2.72\n",
      "Model                      1.72\n",
      "Make                       1.68\n",
      "Event.Id                   1.61\n",
      "Event.Date                 1.61\n",
      "dtype: float64\n"
     ]
    }
   ],
   "source": [
    "#percentage of missing values\n",
    "missing_values_percentage = (missing / len(df_clean)* 100).round(2)\n",
    "print('missing value percentage \\n', missing_values_percentage.sort_values(ascending=False))\n"
   ]
  },
  {
   "cell_type": "markdown",
   "id": "3eb33c7e",
   "metadata": {},
   "source": [
    "### Drop rows with missing value for unique identifiers"
   ]
  },
  {
   "cell_type": "code",
   "execution_count": 12,
   "id": "39000f1d",
   "metadata": {},
   "outputs": [
    {
     "name": "stdout",
     "output_type": "stream",
     "text": [
      "Event ID missing values:  0\n"
     ]
    }
   ],
   "source": [
    "df_clean.dropna(subset= ['Event.Id'], inplace=True)\n",
    "#check if rows with missing values are dropped\n",
    "print('Event ID missing values: ' , df_clean['Event.Id'].isna().sum())"
   ]
  },
  {
   "cell_type": "markdown",
   "id": "e247e58e",
   "metadata": {},
   "source": [
    "We removed the missing values in the Event.Id column since they are unique and we need them to identify the accidents"
   ]
  },
  {
   "cell_type": "markdown",
   "id": "b6d540ca",
   "metadata": {},
   "source": [
    "### Date column"
   ]
  },
  {
   "cell_type": "code",
   "execution_count": 13,
   "id": "15337fbe",
   "metadata": {},
   "outputs": [
    {
     "name": "stdout",
     "output_type": "stream",
     "text": [
      "Event Date missing values: 0\n"
     ]
    }
   ],
   "source": [
    "#Check for missing values\n",
    "print('Event Date missing values:', df_clean['Event.Date'].isnull().sum())"
   ]
  },
  {
   "cell_type": "code",
   "execution_count": 14,
   "id": "56f57a73",
   "metadata": {},
   "outputs": [
    {
     "data": {
      "text/plain": [
       "dtype('<M8[ns]')"
      ]
     },
     "execution_count": 14,
     "metadata": {},
     "output_type": "execute_result"
    }
   ],
   "source": [
    "#convert to datetime\n",
    "df_clean['Event.Date'] = pd.to_datetime(df_clean['Event.Date'],format= '%Y-%m-%d', errors = 'coerce')\n",
    "df_clean['Event.Date'].dtype"
   ]
  },
  {
   "cell_type": "code",
   "execution_count": 15,
   "id": "2ce4d20c",
   "metadata": {},
   "outputs": [
    {
     "data": {
      "application/vnd.microsoft.datawrangler.viewer.v0+json": {
       "columns": [
        {
         "name": "index",
         "rawType": "int64",
         "type": "integer"
        },
        {
         "name": "Event.Id",
         "rawType": "object",
         "type": "string"
        },
        {
         "name": "Event.Date",
         "rawType": "datetime64[ns]",
         "type": "datetime"
        },
        {
         "name": "Make",
         "rawType": "object",
         "type": "string"
        },
        {
         "name": "Model",
         "rawType": "object",
         "type": "string"
        },
        {
         "name": "Aircraft.Category",
         "rawType": "object",
         "type": "string"
        },
        {
         "name": "Injury.Severity",
         "rawType": "object",
         "type": "string"
        },
        {
         "name": "Total.Fatal.Injuries",
         "rawType": "float64",
         "type": "float"
        },
        {
         "name": "Total.Serious.Injuries",
         "rawType": "float64",
         "type": "float"
        },
        {
         "name": "Total.Minor.Injuries",
         "rawType": "float64",
         "type": "float"
        },
        {
         "name": "Total.Uninjured",
         "rawType": "float64",
         "type": "float"
        },
        {
         "name": "Aircraft.damage",
         "rawType": "object",
         "type": "string"
        },
        {
         "name": "Broad.phase.of.flight",
         "rawType": "object",
         "type": "string"
        },
        {
         "name": "Weather.Condition",
         "rawType": "object",
         "type": "string"
        },
        {
         "name": "Purpose.of.flight",
         "rawType": "object",
         "type": "string"
        },
        {
         "name": "Number.of.Engines",
         "rawType": "float64",
         "type": "float"
        },
        {
         "name": "Engine.Type",
         "rawType": "object",
         "type": "string"
        },
        {
         "name": "Event.Year",
         "rawType": "int64",
         "type": "integer"
        }
       ],
       "ref": "30d49232-1e78-4479-bf79-c9f4ead0a7e9",
       "rows": [
        [
         "0",
         "20001218X45444",
         "1948-10-24 00:00:00",
         "Stinson",
         "108-3",
         null,
         "Fatal(2)",
         "2.0",
         "0.0",
         "0.0",
         "0.0",
         "Destroyed",
         "Cruise",
         "UNK",
         "Personal",
         "1.0",
         "Reciprocating",
         "1948"
        ],
        [
         "1",
         "20001218X45447",
         "1962-07-19 00:00:00",
         "Piper",
         "PA24-180",
         null,
         "Fatal(4)",
         "4.0",
         "0.0",
         "0.0",
         "0.0",
         "Destroyed",
         "Unknown",
         "UNK",
         "Personal",
         "1.0",
         "Reciprocating",
         "1962"
        ],
        [
         "2",
         "20061025X01555",
         "1974-08-30 00:00:00",
         "Cessna",
         "172M",
         null,
         "Fatal(3)",
         "3.0",
         null,
         null,
         null,
         "Destroyed",
         "Cruise",
         "IMC",
         "Personal",
         "1.0",
         "Reciprocating",
         "1974"
        ],
        [
         "3",
         "20001218X45448",
         "1977-06-19 00:00:00",
         "Rockwell",
         "112",
         null,
         "Fatal(2)",
         "2.0",
         "0.0",
         "0.0",
         "0.0",
         "Destroyed",
         "Cruise",
         "IMC",
         "Personal",
         "1.0",
         "Reciprocating",
         "1977"
        ],
        [
         "4",
         "20041105X01764",
         "1979-08-02 00:00:00",
         "Cessna",
         "501",
         null,
         "Fatal(1)",
         "1.0",
         "2.0",
         null,
         "0.0",
         "Destroyed",
         "Approach",
         "VMC",
         "Personal",
         null,
         null,
         "1979"
        ]
       ],
       "shape": {
        "columns": 17,
        "rows": 5
       }
      },
      "text/html": [
       "<div>\n",
       "<style scoped>\n",
       "    .dataframe tbody tr th:only-of-type {\n",
       "        vertical-align: middle;\n",
       "    }\n",
       "\n",
       "    .dataframe tbody tr th {\n",
       "        vertical-align: top;\n",
       "    }\n",
       "\n",
       "    .dataframe thead th {\n",
       "        text-align: right;\n",
       "    }\n",
       "</style>\n",
       "<table border=\"1\" class=\"dataframe\">\n",
       "  <thead>\n",
       "    <tr style=\"text-align: right;\">\n",
       "      <th></th>\n",
       "      <th>Event.Id</th>\n",
       "      <th>Event.Date</th>\n",
       "      <th>Make</th>\n",
       "      <th>Model</th>\n",
       "      <th>Aircraft.Category</th>\n",
       "      <th>Injury.Severity</th>\n",
       "      <th>Total.Fatal.Injuries</th>\n",
       "      <th>Total.Serious.Injuries</th>\n",
       "      <th>Total.Minor.Injuries</th>\n",
       "      <th>Total.Uninjured</th>\n",
       "      <th>Aircraft.damage</th>\n",
       "      <th>Broad.phase.of.flight</th>\n",
       "      <th>Weather.Condition</th>\n",
       "      <th>Purpose.of.flight</th>\n",
       "      <th>Number.of.Engines</th>\n",
       "      <th>Engine.Type</th>\n",
       "      <th>Event.Year</th>\n",
       "    </tr>\n",
       "  </thead>\n",
       "  <tbody>\n",
       "    <tr>\n",
       "      <th>0</th>\n",
       "      <td>20001218X45444</td>\n",
       "      <td>1948-10-24</td>\n",
       "      <td>Stinson</td>\n",
       "      <td>108-3</td>\n",
       "      <td>NaN</td>\n",
       "      <td>Fatal(2)</td>\n",
       "      <td>2.0</td>\n",
       "      <td>0.0</td>\n",
       "      <td>0.0</td>\n",
       "      <td>0.0</td>\n",
       "      <td>Destroyed</td>\n",
       "      <td>Cruise</td>\n",
       "      <td>UNK</td>\n",
       "      <td>Personal</td>\n",
       "      <td>1.0</td>\n",
       "      <td>Reciprocating</td>\n",
       "      <td>1948</td>\n",
       "    </tr>\n",
       "    <tr>\n",
       "      <th>1</th>\n",
       "      <td>20001218X45447</td>\n",
       "      <td>1962-07-19</td>\n",
       "      <td>Piper</td>\n",
       "      <td>PA24-180</td>\n",
       "      <td>NaN</td>\n",
       "      <td>Fatal(4)</td>\n",
       "      <td>4.0</td>\n",
       "      <td>0.0</td>\n",
       "      <td>0.0</td>\n",
       "      <td>0.0</td>\n",
       "      <td>Destroyed</td>\n",
       "      <td>Unknown</td>\n",
       "      <td>UNK</td>\n",
       "      <td>Personal</td>\n",
       "      <td>1.0</td>\n",
       "      <td>Reciprocating</td>\n",
       "      <td>1962</td>\n",
       "    </tr>\n",
       "    <tr>\n",
       "      <th>2</th>\n",
       "      <td>20061025X01555</td>\n",
       "      <td>1974-08-30</td>\n",
       "      <td>Cessna</td>\n",
       "      <td>172M</td>\n",
       "      <td>NaN</td>\n",
       "      <td>Fatal(3)</td>\n",
       "      <td>3.0</td>\n",
       "      <td>NaN</td>\n",
       "      <td>NaN</td>\n",
       "      <td>NaN</td>\n",
       "      <td>Destroyed</td>\n",
       "      <td>Cruise</td>\n",
       "      <td>IMC</td>\n",
       "      <td>Personal</td>\n",
       "      <td>1.0</td>\n",
       "      <td>Reciprocating</td>\n",
       "      <td>1974</td>\n",
       "    </tr>\n",
       "    <tr>\n",
       "      <th>3</th>\n",
       "      <td>20001218X45448</td>\n",
       "      <td>1977-06-19</td>\n",
       "      <td>Rockwell</td>\n",
       "      <td>112</td>\n",
       "      <td>NaN</td>\n",
       "      <td>Fatal(2)</td>\n",
       "      <td>2.0</td>\n",
       "      <td>0.0</td>\n",
       "      <td>0.0</td>\n",
       "      <td>0.0</td>\n",
       "      <td>Destroyed</td>\n",
       "      <td>Cruise</td>\n",
       "      <td>IMC</td>\n",
       "      <td>Personal</td>\n",
       "      <td>1.0</td>\n",
       "      <td>Reciprocating</td>\n",
       "      <td>1977</td>\n",
       "    </tr>\n",
       "    <tr>\n",
       "      <th>4</th>\n",
       "      <td>20041105X01764</td>\n",
       "      <td>1979-08-02</td>\n",
       "      <td>Cessna</td>\n",
       "      <td>501</td>\n",
       "      <td>NaN</td>\n",
       "      <td>Fatal(1)</td>\n",
       "      <td>1.0</td>\n",
       "      <td>2.0</td>\n",
       "      <td>NaN</td>\n",
       "      <td>0.0</td>\n",
       "      <td>Destroyed</td>\n",
       "      <td>Approach</td>\n",
       "      <td>VMC</td>\n",
       "      <td>Personal</td>\n",
       "      <td>NaN</td>\n",
       "      <td>NaN</td>\n",
       "      <td>1979</td>\n",
       "    </tr>\n",
       "  </tbody>\n",
       "</table>\n",
       "</div>"
      ],
      "text/plain": [
       "         Event.Id Event.Date      Make     Model Aircraft.Category  \\\n",
       "0  20001218X45444 1948-10-24   Stinson     108-3               NaN   \n",
       "1  20001218X45447 1962-07-19     Piper  PA24-180               NaN   \n",
       "2  20061025X01555 1974-08-30    Cessna      172M               NaN   \n",
       "3  20001218X45448 1977-06-19  Rockwell       112               NaN   \n",
       "4  20041105X01764 1979-08-02    Cessna       501               NaN   \n",
       "\n",
       "  Injury.Severity  Total.Fatal.Injuries  Total.Serious.Injuries  \\\n",
       "0        Fatal(2)                   2.0                     0.0   \n",
       "1        Fatal(4)                   4.0                     0.0   \n",
       "2        Fatal(3)                   3.0                     NaN   \n",
       "3        Fatal(2)                   2.0                     0.0   \n",
       "4        Fatal(1)                   1.0                     2.0   \n",
       "\n",
       "   Total.Minor.Injuries  Total.Uninjured Aircraft.damage  \\\n",
       "0                   0.0              0.0       Destroyed   \n",
       "1                   0.0              0.0       Destroyed   \n",
       "2                   NaN              NaN       Destroyed   \n",
       "3                   0.0              0.0       Destroyed   \n",
       "4                   NaN              0.0       Destroyed   \n",
       "\n",
       "  Broad.phase.of.flight Weather.Condition Purpose.of.flight  \\\n",
       "0                Cruise               UNK          Personal   \n",
       "1               Unknown               UNK          Personal   \n",
       "2                Cruise               IMC          Personal   \n",
       "3                Cruise               IMC          Personal   \n",
       "4              Approach               VMC          Personal   \n",
       "\n",
       "   Number.of.Engines    Engine.Type  Event.Year  \n",
       "0                1.0  Reciprocating        1948  \n",
       "1                1.0  Reciprocating        1962  \n",
       "2                1.0  Reciprocating        1974  \n",
       "3                1.0  Reciprocating        1977  \n",
       "4                NaN            NaN        1979  "
      ]
     },
     "execution_count": 15,
     "metadata": {},
     "output_type": "execute_result"
    }
   ],
   "source": [
    "#Create a new column with Event Year\n",
    "df_clean['Event.Year'] = df_clean['Event.Date'].dt.year\n",
    "df_clean.head()"
   ]
  },
  {
   "cell_type": "markdown",
   "id": "5ac6d841",
   "metadata": {},
   "source": [
    "### Aircraft information"
   ]
  },
  {
   "cell_type": "code",
   "execution_count": 16,
   "id": "96bb608f",
   "metadata": {},
   "outputs": [
    {
     "name": "stdout",
     "output_type": "stream",
     "text": [
      "<class 'pandas.core.frame.DataFrame'>\n",
      "Int64Index: 88889 entries, 0 to 90347\n",
      "Data columns (total 17 columns):\n",
      " #   Column                  Non-Null Count  Dtype         \n",
      "---  ------                  --------------  -----         \n",
      " 0   Event.Id                88889 non-null  object        \n",
      " 1   Event.Date              88889 non-null  datetime64[ns]\n",
      " 2   Make                    88826 non-null  object        \n",
      " 3   Model                   88797 non-null  object        \n",
      " 4   Aircraft.Category       32287 non-null  object        \n",
      " 5   Injury.Severity         87889 non-null  object        \n",
      " 6   Total.Fatal.Injuries    77488 non-null  float64       \n",
      " 7   Total.Serious.Injuries  76379 non-null  float64       \n",
      " 8   Total.Minor.Injuries    76956 non-null  float64       \n",
      " 9   Total.Uninjured         82977 non-null  float64       \n",
      " 10  Aircraft.damage         85695 non-null  object        \n",
      " 11  Broad.phase.of.flight   61724 non-null  object        \n",
      " 12  Weather.Condition       84397 non-null  object        \n",
      " 13  Purpose.of.flight       82697 non-null  object        \n",
      " 14  Number.of.Engines       82805 non-null  float64       \n",
      " 15  Engine.Type             81812 non-null  object        \n",
      " 16  Event.Year              88889 non-null  int64         \n",
      "dtypes: datetime64[ns](1), float64(5), int64(1), object(10)\n",
      "memory usage: 12.2+ MB\n"
     ]
    }
   ],
   "source": [
    "df_clean.info()"
   ]
  },
  {
   "cell_type": "code",
   "execution_count": 17,
   "id": "220d1567",
   "metadata": {},
   "outputs": [
    {
     "name": "stdout",
     "output_type": "stream",
     "text": [
      "Aircraft Make missing values: 63\n",
      "Aircraft Model missing values: 92\n",
      "Aircraft Category missing values: 56602\n"
     ]
    }
   ],
   "source": [
    "print('Aircraft Make missing values:', df_clean['Make'].isnull().sum())\n",
    "print('Aircraft Model missing values:', df_clean['Model'].isnull().sum())\n",
    "print('Aircraft Category missing values:', df_clean['Aircraft.Category'].isnull().sum())\n"
   ]
  },
  {
   "cell_type": "markdown",
   "id": "0bd2b3af",
   "metadata": {},
   "source": [
    "Replace the missing value with text"
   ]
  },
  {
   "cell_type": "code",
   "execution_count": 18,
   "id": "9912722b",
   "metadata": {},
   "outputs": [],
   "source": [
    "df_clean['Make'] = df_clean['Make'].fillna('Unknown Make')"
   ]
  },
  {
   "cell_type": "code",
   "execution_count": 19,
   "id": "56280ff4",
   "metadata": {},
   "outputs": [],
   "source": [
    "df_clean['Model'] = df_clean['Model'].fillna('Unknown Model')"
   ]
  },
  {
   "cell_type": "code",
   "execution_count": 20,
   "id": "10fdcbdd",
   "metadata": {},
   "outputs": [],
   "source": [
    "df_clean['Aircraft.Category'] = df_clean['Aircraft.Category'].fillna('Unknown Category')"
   ]
  },
  {
   "cell_type": "markdown",
   "id": "3a248d62",
   "metadata": {},
   "source": [
    "### Handle operational factors"
   ]
  },
  {
   "cell_type": "code",
   "execution_count": 21,
   "id": "7dfb4f76",
   "metadata": {},
   "outputs": [],
   "source": [
    "operation = ['Broad.phase.of.flight', 'Weather.Condition', 'Purpose.of.flight', 'Aircraft.damage', 'Engine.Type', 'Injury.Severity']"
   ]
  },
  {
   "cell_type": "code",
   "execution_count": 22,
   "id": "2a89f9a0",
   "metadata": {},
   "outputs": [
    {
     "data": {
      "application/vnd.microsoft.datawrangler.viewer.v0+json": {
       "columns": [
        {
         "name": "index",
         "rawType": "object",
         "type": "string"
        },
        {
         "name": "0",
         "rawType": "int64",
         "type": "integer"
        }
       ],
       "ref": "2b505284-f568-448e-b49c-ad95695c2ff2",
       "rows": [
        [
         "Broad.phase.of.flight",
         "27165"
        ],
        [
         "Weather.Condition",
         "4492"
        ],
        [
         "Purpose.of.flight",
         "6192"
        ],
        [
         "Aircraft.damage",
         "3194"
        ],
        [
         "Engine.Type",
         "7077"
        ],
        [
         "Injury.Severity",
         "1000"
        ]
       ],
       "shape": {
        "columns": 1,
        "rows": 6
       }
      },
      "text/plain": [
       "Broad.phase.of.flight    27165\n",
       "Weather.Condition         4492\n",
       "Purpose.of.flight         6192\n",
       "Aircraft.damage           3194\n",
       "Engine.Type               7077\n",
       "Injury.Severity           1000\n",
       "dtype: int64"
      ]
     },
     "execution_count": 22,
     "metadata": {},
     "output_type": "execute_result"
    }
   ],
   "source": [
    "df_clean[operation].isnull().sum()"
   ]
  },
  {
   "cell_type": "code",
   "execution_count": 23,
   "id": "c6762489",
   "metadata": {},
   "outputs": [],
   "source": [
    "#replace missing values with Unknown\n",
    "for i in operation:\n",
    "    if df_clean[i].isnull().sum() >0:\n",
    "        df_clean[i] = df_clean[i].fillna('Unknown')"
   ]
  },
  {
   "cell_type": "code",
   "execution_count": 24,
   "id": "e3f883a7",
   "metadata": {},
   "outputs": [
    {
     "data": {
      "application/vnd.microsoft.datawrangler.viewer.v0+json": {
       "columns": [
        {
         "name": "index",
         "rawType": "object",
         "type": "string"
        },
        {
         "name": "0",
         "rawType": "int64",
         "type": "integer"
        }
       ],
       "ref": "794ce05b-5256-4104-9928-b7f844a5f274",
       "rows": [
        [
         "Broad.phase.of.flight",
         "0"
        ],
        [
         "Weather.Condition",
         "0"
        ],
        [
         "Purpose.of.flight",
         "0"
        ],
        [
         "Aircraft.damage",
         "0"
        ],
        [
         "Engine.Type",
         "0"
        ],
        [
         "Injury.Severity",
         "0"
        ]
       ],
       "shape": {
        "columns": 1,
        "rows": 6
       }
      },
      "text/plain": [
       "Broad.phase.of.flight    0\n",
       "Weather.Condition        0\n",
       "Purpose.of.flight        0\n",
       "Aircraft.damage          0\n",
       "Engine.Type              0\n",
       "Injury.Severity          0\n",
       "dtype: int64"
      ]
     },
     "execution_count": 24,
     "metadata": {},
     "output_type": "execute_result"
    }
   ],
   "source": [
    "df_clean[operation].isnull().sum()"
   ]
  },
  {
   "cell_type": "markdown",
   "id": "383016c2",
   "metadata": {},
   "source": [
    "### Handling missing values in numerical columns"
   ]
  },
  {
   "cell_type": "code",
   "execution_count": 25,
   "id": "27ebb22d",
   "metadata": {},
   "outputs": [],
   "source": [
    "injuries = ['Total.Fatal.Injuries', 'Total.Serious.Injuries', 'Total.Minor.Injuries', 'Total.Uninjured' ]"
   ]
  },
  {
   "cell_type": "markdown",
   "id": "03a98a5c",
   "metadata": {},
   "source": [
    "#### remove rows with missing total fatal injuries"
   ]
  },
  {
   "cell_type": "code",
   "execution_count": 26,
   "id": "093b7e78",
   "metadata": {},
   "outputs": [],
   "source": [
    "df_clean.dropna(subset= ['Total.Fatal.Injuries'], inplace= True)"
   ]
  },
  {
   "cell_type": "code",
   "execution_count": 27,
   "id": "45c017f8",
   "metadata": {},
   "outputs": [
    {
     "data": {
      "application/vnd.microsoft.datawrangler.viewer.v0+json": {
       "columns": [
        {
         "name": "index",
         "rawType": "object",
         "type": "string"
        },
        {
         "name": "0",
         "rawType": "int64",
         "type": "integer"
        }
       ],
       "ref": "54e7c4e6-e53e-48dd-95db-8a35d9c47250",
       "rows": [
        [
         "Total.Fatal.Injuries",
         "0"
        ],
        [
         "Total.Serious.Injuries",
         "2658"
        ],
        [
         "Total.Minor.Injuries",
         "2961"
        ],
        [
         "Total.Uninjured",
         "2999"
        ]
       ],
       "shape": {
        "columns": 1,
        "rows": 4
       }
      },
      "text/plain": [
       "Total.Fatal.Injuries         0\n",
       "Total.Serious.Injuries    2658\n",
       "Total.Minor.Injuries      2961\n",
       "Total.Uninjured           2999\n",
       "dtype: int64"
      ]
     },
     "execution_count": 27,
     "metadata": {},
     "output_type": "execute_result"
    }
   ],
   "source": [
    "df_clean[injuries].isnull().sum()"
   ]
  },
  {
   "cell_type": "markdown",
   "id": "63b58974",
   "metadata": {},
   "source": [
    "### Replacing missing values with mean"
   ]
  },
  {
   "cell_type": "code",
   "execution_count": 28,
   "id": "ea20a1a3",
   "metadata": {},
   "outputs": [],
   "source": [
    "for col in injuries:\n",
    "    if df_clean[col].isnull().sum() >0:\n",
    "        mean_val = round(df_clean[col].mean(), 0)\n",
    "        df_clean[col] = df_clean[col].fillna(mean_val)"
   ]
  },
  {
   "cell_type": "code",
   "execution_count": 29,
   "id": "75951825",
   "metadata": {},
   "outputs": [
    {
     "data": {
      "application/vnd.microsoft.datawrangler.viewer.v0+json": {
       "columns": [
        {
         "name": "index",
         "rawType": "object",
         "type": "string"
        },
        {
         "name": "0",
         "rawType": "int64",
         "type": "integer"
        }
       ],
       "ref": "ea7f2e25-3250-4761-8ba6-d1a54d05a43d",
       "rows": [
        [
         "Total.Fatal.Injuries",
         "0"
        ],
        [
         "Total.Serious.Injuries",
         "0"
        ],
        [
         "Total.Minor.Injuries",
         "0"
        ],
        [
         "Total.Uninjured",
         "0"
        ]
       ],
       "shape": {
        "columns": 1,
        "rows": 4
       }
      },
      "text/plain": [
       "Total.Fatal.Injuries      0\n",
       "Total.Serious.Injuries    0\n",
       "Total.Minor.Injuries      0\n",
       "Total.Uninjured           0\n",
       "dtype: int64"
      ]
     },
     "execution_count": 29,
     "metadata": {},
     "output_type": "execute_result"
    }
   ],
   "source": [
    "#check for missing values\n",
    "df_clean[injuries].isnull().sum()"
   ]
  },
  {
   "cell_type": "code",
   "execution_count": 30,
   "id": "047bee5c",
   "metadata": {},
   "outputs": [],
   "source": [
    "mean_val2 = round(df_clean['Number.of.Engines'].mean(), 0)\n",
    "df_clean['Number.of.Engines'] = df_clean['Number.of.Engines'].fillna(mean_val2)"
   ]
  },
  {
   "cell_type": "code",
   "execution_count": 31,
   "id": "2d058b78",
   "metadata": {},
   "outputs": [
    {
     "data": {
      "application/vnd.microsoft.datawrangler.viewer.v0+json": {
       "columns": [
        {
         "name": "index",
         "rawType": "object",
         "type": "string"
        },
        {
         "name": "0",
         "rawType": "int64",
         "type": "integer"
        }
       ],
       "ref": "4e467267-36fb-4ee6-88be-57c0f12b83a4",
       "rows": [
        [
         "Event.Id",
         "0"
        ],
        [
         "Event.Date",
         "0"
        ],
        [
         "Make",
         "0"
        ],
        [
         "Model",
         "0"
        ],
        [
         "Aircraft.Category",
         "0"
        ],
        [
         "Injury.Severity",
         "0"
        ],
        [
         "Total.Fatal.Injuries",
         "0"
        ],
        [
         "Total.Serious.Injuries",
         "0"
        ],
        [
         "Total.Minor.Injuries",
         "0"
        ],
        [
         "Total.Uninjured",
         "0"
        ],
        [
         "Aircraft.damage",
         "0"
        ],
        [
         "Broad.phase.of.flight",
         "0"
        ],
        [
         "Weather.Condition",
         "0"
        ],
        [
         "Purpose.of.flight",
         "0"
        ],
        [
         "Number.of.Engines",
         "0"
        ],
        [
         "Engine.Type",
         "0"
        ],
        [
         "Event.Year",
         "0"
        ]
       ],
       "shape": {
        "columns": 1,
        "rows": 17
       }
      },
      "text/plain": [
       "Event.Id                  0\n",
       "Event.Date                0\n",
       "Make                      0\n",
       "Model                     0\n",
       "Aircraft.Category         0\n",
       "Injury.Severity           0\n",
       "Total.Fatal.Injuries      0\n",
       "Total.Serious.Injuries    0\n",
       "Total.Minor.Injuries      0\n",
       "Total.Uninjured           0\n",
       "Aircraft.damage           0\n",
       "Broad.phase.of.flight     0\n",
       "Weather.Condition         0\n",
       "Purpose.of.flight         0\n",
       "Number.of.Engines         0\n",
       "Engine.Type               0\n",
       "Event.Year                0\n",
       "dtype: int64"
      ]
     },
     "execution_count": 31,
     "metadata": {},
     "output_type": "execute_result"
    }
   ],
   "source": [
    "df_clean.isnull().sum()"
   ]
  },
  {
   "cell_type": "markdown",
   "id": "37979a21",
   "metadata": {},
   "source": [
    "### Categorize and Replace data"
   ]
  },
  {
   "cell_type": "code",
   "execution_count": 32,
   "id": "b4731d5f",
   "metadata": {},
   "outputs": [
    {
     "data": {
      "application/vnd.microsoft.datawrangler.viewer.v0+json": {
       "columns": [
        {
         "name": "index",
         "rawType": "object",
         "type": "string"
        },
        {
         "name": "Injury.Severity",
         "rawType": "int64",
         "type": "integer"
        }
       ],
       "ref": "e5fce2c7-6e32-4bfd-ba44-a9198b4f1e2d",
       "rows": [
        [
         "Non-Fatal",
         "56686"
        ],
        [
         "Fatal(1)",
         "6167"
        ],
        [
         "Fatal",
         "5262"
        ],
        [
         "Fatal(2)",
         "3711"
        ],
        [
         "Incident",
         "1574"
        ],
        [
         "Fatal(3)",
         "1147"
        ],
        [
         "Unknown",
         "1000"
        ],
        [
         "Fatal(4)",
         "812"
        ],
        [
         "Fatal(5)",
         "235"
        ],
        [
         "Minor",
         "218"
        ],
        [
         "Serious",
         "173"
        ],
        [
         "Fatal(6)",
         "161"
        ],
        [
         "Fatal(7)",
         "56"
        ],
        [
         "Fatal(8)",
         "51"
        ],
        [
         "Fatal(10)",
         "32"
        ],
        [
         "Fatal(9)",
         "18"
        ],
        [
         "Unavailable",
         "11"
        ],
        [
         "Fatal(14)",
         "11"
        ],
        [
         "Fatal(11)",
         "10"
        ],
        [
         "Fatal(13)",
         "9"
        ],
        [
         "Fatal(12)",
         "8"
        ],
        [
         "Fatal(15)",
         "5"
        ],
        [
         "Fatal(20)",
         "5"
        ],
        [
         "Fatal(18)",
         "5"
        ],
        [
         "Fatal(25)",
         "4"
        ],
        [
         "Fatal(23)",
         "4"
        ],
        [
         "Fatal(19)",
         "3"
        ],
        [
         "Fatal(17)",
         "3"
        ],
        [
         "Fatal(16)",
         "3"
        ],
        [
         "Fatal(34)",
         "3"
        ],
        [
         "Fatal(97)",
         "2"
        ],
        [
         "Fatal(160)",
         "2"
        ],
        [
         "Fatal(65)",
         "2"
        ],
        [
         "Fatal(46)",
         "2"
        ],
        [
         "Fatal(102)",
         "2"
        ],
        [
         "Fatal(118)",
         "2"
        ],
        [
         "Fatal(71)",
         "2"
        ],
        [
         "Fatal(349)",
         "2"
        ],
        [
         "Fatal(75)",
         "2"
        ],
        [
         "Fatal(104)",
         "2"
        ],
        [
         "Fatal(92)",
         "2"
        ],
        [
         "Fatal(24)",
         "2"
        ],
        [
         "Fatal(52)",
         "2"
        ],
        [
         "Fatal(113)",
         "2"
        ],
        [
         "Fatal(27)",
         "2"
        ],
        [
         "Fatal(131)",
         "2"
        ],
        [
         "Fatal(29)",
         "2"
        ],
        [
         "Fatal(70)",
         "2"
        ],
        [
         "Fatal(154)",
         "2"
        ],
        [
         "Fatal(87)",
         "2"
        ]
       ],
       "shape": {
        "columns": 1,
        "rows": 110
       }
      },
      "text/plain": [
       "Non-Fatal     56686\n",
       "Fatal(1)       6167\n",
       "Fatal          5262\n",
       "Fatal(2)       3711\n",
       "Incident       1574\n",
       "              ...  \n",
       "Fatal(80)         1\n",
       "Fatal(217)        1\n",
       "Fatal(169)        1\n",
       "Fatal(88)         1\n",
       "Fatal(189)        1\n",
       "Name: Injury.Severity, Length: 110, dtype: int64"
      ]
     },
     "execution_count": 32,
     "metadata": {},
     "output_type": "execute_result"
    }
   ],
   "source": [
    "#Check for available values\n",
    "df_clean['Injury.Severity'].value_counts()"
   ]
  },
  {
   "cell_type": "code",
   "execution_count": 33,
   "id": "04e05ce8",
   "metadata": {},
   "outputs": [],
   "source": [
    "#Categorize injury severity into Fatal, Non-Fatal, or Unknown\n",
    "df_clean['Injury.Level'] = df_clean['Injury.Severity'].astype(str).apply( lambda x: 'Fatal' if 'Fatal' in x or 'Serious' in x else 'Non-Fatal' if 'Non-Fatal' in x or 'Incident' in x or 'Minor' in x else 'unknown' )"
   ]
  },
  {
   "cell_type": "code",
   "execution_count": 34,
   "id": "025e1abc",
   "metadata": {},
   "outputs": [
    {
     "data": {
      "application/vnd.microsoft.datawrangler.viewer.v0+json": {
       "columns": [
        {
         "name": "index",
         "rawType": "object",
         "type": "string"
        },
        {
         "name": "Injury.Level",
         "rawType": "int64",
         "type": "integer"
        }
       ],
       "ref": "8639ea47-cf4c-47fe-b557-74c8d07e514e",
       "rows": [
        [
         "Fatal",
         "74685"
        ],
        [
         "Non-Fatal",
         "1792"
        ],
        [
         "unknown",
         "1011"
        ]
       ],
       "shape": {
        "columns": 1,
        "rows": 3
       }
      },
      "text/plain": [
       "Fatal        74685\n",
       "Non-Fatal     1792\n",
       "unknown       1011\n",
       "Name: Injury.Level, dtype: int64"
      ]
     },
     "execution_count": 34,
     "metadata": {},
     "output_type": "execute_result"
    }
   ],
   "source": [
    "df_clean['Injury.Level'].value_counts()"
   ]
  },
  {
   "cell_type": "code",
   "execution_count": 35,
   "id": "da2edd35",
   "metadata": {},
   "outputs": [],
   "source": [
    "#Move all unknown values to one category\n",
    "df_clean['Weather.Condition'] = df_clean['Weather.Condition'].replace(\n",
    "    ['UNK', 'Unk', 'Unknown'],\n",
    "    'Unknown'\n",
    ")"
   ]
  },
  {
   "cell_type": "code",
   "execution_count": 36,
   "id": "c4552a9e",
   "metadata": {},
   "outputs": [],
   "source": [
    "#clean the engine type category\n",
    "df_clean['Engine.Type'] = df_clean['Engine.Type'].replace({\n",
    "    'UNK': 'Unknown',\n",
    "    'NONE': 'Unknown',\n",
    "    'Unknown ': 'Unknown',\n",
    "    'None.': 'Unknown',\n",
    "    'LR': 'Unknown',\n",
    "    'Uknown': 'Unknown',\n",
    "    'Ukn': 'Unknown'\n",
    "})"
   ]
  },
  {
   "cell_type": "code",
   "execution_count": 37,
   "id": "a2936800",
   "metadata": {},
   "outputs": [
    {
     "data": {
      "text/plain": [
       "array(['Unknown Category', 'Airplane', 'Helicopter', 'Glider', 'Balloon',\n",
       "       'Gyrocraft', 'Ultralight', 'Unknown', 'Weight-Shift',\n",
       "       'Powered Parachute', 'Powered-Lift', 'Rocket', 'Blimp', 'WSFT',\n",
       "       'UNK', 'ULTR'], dtype=object)"
      ]
     },
     "execution_count": 37,
     "metadata": {},
     "output_type": "execute_result"
    }
   ],
   "source": [
    "df_clean['Aircraft.Category'].unique()"
   ]
  },
  {
   "cell_type": "code",
   "execution_count": 38,
   "id": "2e1ab983",
   "metadata": {},
   "outputs": [],
   "source": [
    "df_clean['Aircraft.Category'] = df_clean['Aircraft.Category'].replace({\n",
    "    'UNK': 'Unknown Category',\n",
    "    'NONE': 'Unknown',\n",
    "    'Unknown': 'Unknown Category',\n",
    "})"
   ]
  },
  {
   "cell_type": "code",
   "execution_count": 39,
   "id": "2ad83ccf",
   "metadata": {},
   "outputs": [],
   "source": [
    "#Format the Make column\n",
    "df_clean['Make'] = df_clean['Make'].str.strip().str.title()"
   ]
  },
  {
   "cell_type": "code",
   "execution_count": 40,
   "id": "2eb13b8b",
   "metadata": {},
   "outputs": [
    {
     "data": {
      "application/vnd.microsoft.datawrangler.viewer.v0+json": {
       "columns": [
        {
         "name": "index",
         "rawType": "object",
         "type": "string"
        },
        {
         "name": "0",
         "rawType": "int64",
         "type": "integer"
        }
       ],
       "ref": "67810205-129c-4ffb-8bc8-d11efc8bea63",
       "rows": [
        [
         "Event.Id",
         "0"
        ],
        [
         "Event.Date",
         "0"
        ],
        [
         "Make",
         "0"
        ],
        [
         "Model",
         "0"
        ],
        [
         "Aircraft.Category",
         "0"
        ],
        [
         "Injury.Severity",
         "0"
        ],
        [
         "Total.Fatal.Injuries",
         "0"
        ],
        [
         "Total.Serious.Injuries",
         "0"
        ],
        [
         "Total.Minor.Injuries",
         "0"
        ],
        [
         "Total.Uninjured",
         "0"
        ],
        [
         "Aircraft.damage",
         "0"
        ],
        [
         "Broad.phase.of.flight",
         "0"
        ],
        [
         "Weather.Condition",
         "0"
        ],
        [
         "Purpose.of.flight",
         "0"
        ],
        [
         "Number.of.Engines",
         "0"
        ],
        [
         "Engine.Type",
         "0"
        ],
        [
         "Event.Year",
         "0"
        ],
        [
         "Injury.Level",
         "0"
        ]
       ],
       "shape": {
        "columns": 1,
        "rows": 18
       }
      },
      "text/plain": [
       "Event.Id                  0\n",
       "Event.Date                0\n",
       "Make                      0\n",
       "Model                     0\n",
       "Aircraft.Category         0\n",
       "Injury.Severity           0\n",
       "Total.Fatal.Injuries      0\n",
       "Total.Serious.Injuries    0\n",
       "Total.Minor.Injuries      0\n",
       "Total.Uninjured           0\n",
       "Aircraft.damage           0\n",
       "Broad.phase.of.flight     0\n",
       "Weather.Condition         0\n",
       "Purpose.of.flight         0\n",
       "Number.of.Engines         0\n",
       "Engine.Type               0\n",
       "Event.Year                0\n",
       "Injury.Level              0\n",
       "dtype: int64"
      ]
     },
     "execution_count": 40,
     "metadata": {},
     "output_type": "execute_result"
    }
   ],
   "source": [
    "#Create new column to show\n",
    "df_clean.isnull().sum()"
   ]
  },
  {
   "cell_type": "markdown",
   "id": "046e3127",
   "metadata": {},
   "source": [
    "## 4. Data Analysis"
   ]
  },
  {
   "cell_type": "markdown",
   "id": "0e8a44d5",
   "metadata": {},
   "source": [
    "### Exploratory Analysis"
   ]
  },
  {
   "cell_type": "code",
   "execution_count": 41,
   "id": "3af9b6e6",
   "metadata": {},
   "outputs": [
    {
     "data": {
      "image/png": "[encoded data removed]",
      "text/plain": [
       "<Figure size 1080x720 with 4 Axes>"
      ]
     },
     "metadata": {
      "needs_background": "light"
     },
     "output_type": "display_data"
    }
   ],
   "source": [
    "# 1. Overall accident trends over time\n",
    "plt.figure(figsize=(15, 10))\n",
    "\n",
    "# Subplot 1: Accidents by year\n",
    "plt.subplot(2, 2, 1)\n",
    "yearly_accidents = df_clean.groupby('Event.Year').size()\n",
    "yearly_accidents.plot(kind='line', title='Aviation Accidents Over Time', color='red')\n",
    "plt.xlabel('Year')\n",
    "plt.ylabel('Number of Accidents')\n",
    "plt.grid(True)\n",
    "\n",
    "# Subplot 2: Injury severity distribution\n",
    "plt.subplot(2, 2, 2)\n",
    "injury_counts = df_clean['Injury.Level'].value_counts()\n",
    "plt.pie(injury_counts.values, labels=injury_counts.index, autopct='%1.1f%%')\n",
    "plt.title('Distribution of Injury Severity')\n",
    "\n",
    "# Subplot 3: Aircraft damage\n",
    "plt.subplot(2, 2, 3)\n",
    "damage_counts = df_clean['Aircraft.damage'].value_counts()\n",
    "sns.barplot(x=damage_counts.values, y=damage_counts.index)\n",
    "plt.title('Aircraft Damage Severity')\n",
    "plt.xlabel('Count')\n",
    "\n",
    "# Subplot 4: Weather conditions\n",
    "plt.subplot(2, 2, 4)\n",
    "weather_counts = df_clean['Weather.Condition'].value_counts().head(10)\n",
    "sns.barplot(x=weather_counts.values, y=weather_counts.index)\n",
    "plt.title('Top 10 Weather Conditions During Accidents')\n",
    "plt.xlabel('Count')\n",
    "\n",
    "plt.tight_layout()\n",
    "plt.show()"
   ]
  },
  {
   "cell_type": "markdown",
   "id": "0ebecfd3",
   "metadata": {},
   "source": [
    "###  Safest Aircraft Manufacturers"
   ]
  },
  {
   "cell_type": "code",
   "execution_count": 42,
   "id": "d77f16ac",
   "metadata": {},
   "outputs": [
    {
     "data": {
      "image/png": "[encoded data removed]",
      "text/plain": [
       "<Figure size 864x576 with 1 Axes>"
      ]
     },
     "metadata": {
      "needs_background": "light"
     },
     "output_type": "display_data"
    },
    {
     "name": "stdout",
     "output_type": "stream",
     "text": [
      "Safety Analysis by Manufacturer:\n",
      "                Make  Total_Accidents  Fatal_Accidents  Fatality_Rate\n",
      "0             Airbus              274              159      58.029197\n",
      "1  Mcdonnell Douglas              464              280      60.344828\n",
      "2             Boeing             2270             1400      61.674009\n",
      "3            Douglas              249              178      71.485944\n",
      "4           Lockheed              103               75      72.815534\n"
     ]
    }
   ],
   "source": [
    "# Calculate safety metrics by aircraft manufacturer\n",
    "manufacturer_safety = df_clean.groupby('Make').agg({\n",
    "    'Event.Id': 'count',  # Total accidents\n",
    "    'Total.Fatal.Injuries': 'sum',\n",
    "    'Total.Serious.Injuries': 'sum',\n",
    "    'Injury.Level': lambda x: (x == 'Fatal').sum()  # Count fatal accidents\n",
    "}).rename(columns={'Event.Id': 'Total_Accidents', 'Injury.Level': 'Fatal_Accidents'})\n",
    "\n",
    "# Calculate fatality rate (fatal accidents per total accidents)\n",
    "manufacturer_safety['Fatality_Rate'] = (manufacturer_safety['Fatal_Accidents'] / \n",
    "                                       manufacturer_safety['Total_Accidents'] * 100)\n",
    "\n",
    "# Filter for manufacturers with significant number of accidents (at least 100)\n",
    "significant_manufacturers = manufacturer_safety[manufacturer_safety['Total_Accidents'] >= 100]\n",
    "safest_manufacturers = significant_manufacturers.nsmallest(10, 'Fatality_Rate')\n",
    "\n",
    "plt.figure(figsize=(12, 8))\n",
    "bars = plt.barh(safest_manufacturers.index, safest_manufacturers['Fatality_Rate'], \n",
    "                color='lightgreen', alpha=0.7)\n",
    "plt.xlabel('Fatality Rate (%)')\n",
    "plt.title('Top 10 Safest Aircraft Manufacturers (Minimum 100 Accidents)')\n",
    "plt.gca().invert_yaxis()\n",
    "\n",
    "# Add value labels on bars\n",
    "for bar in bars:\n",
    "    width = bar.get_width()\n",
    "    plt.text(width + 0.1, bar.get_y() + bar.get_height()/2, \n",
    "             f'{width:.1f}%', ha='left', va='center')\n",
    "\n",
    "plt.tight_layout()\n",
    "plt.show()\n",
    "\n",
    "print(\"Safety Analysis by Manufacturer:\")\n",
    "print(safest_manufacturers[['Total_Accidents', 'Fatal_Accidents', 'Fatality_Rate']].head().reset_index())"
   ]
  },
  {
   "cell_type": "markdown",
   "id": "e524ad2a",
   "metadata": {},
   "source": [
    "### Risk by Flight Phase"
   ]
  },
  {
   "cell_type": "code",
   "execution_count": 43,
   "id": "163c81b8",
   "metadata": {},
   "outputs": [
    {
     "data": {
      "image/png": "[encoded data removed]",
      "text/plain": [
       "<Figure size 864x576 with 1 Axes>"
      ]
     },
     "metadata": {
      "needs_background": "light"
     },
     "output_type": "display_data"
    },
    {
     "name": "stdout",
     "output_type": "stream",
     "text": [
      "Safest flight phase:\n",
      "  Broad.phase.of.flight  Total_Accidents  Fatal_Accidents  Fatality_Rate\n",
      "0                 Other              101               96      95.049505\n",
      "1               Descent             1589             1495      94.084330\n",
      "2              Standing              721              663      91.955617\n",
      "3                 Climb             1760             1606      91.250000\n",
      "4                  Taxi             1518             1379      90.843215\n"
     ]
    }
   ],
   "source": [
    "# Analyze accidents by flight phase\n",
    "flight_phase_analysis = df_clean.groupby('Broad.phase.of.flight').agg({\n",
    "    'Event.Id': 'count',\n",
    "    'Total.Fatal.Injuries': 'sum',\n",
    "    'Injury.Level': lambda x: (x == 'Fatal').sum()\n",
    "}).rename(columns={'Event.Id': 'Total_Accidents', 'Injury.Level': 'Fatal_Accidents'})\n",
    "\n",
    "flight_phase_analysis['Fatality_Rate'] = (flight_phase_analysis['Fatal_Accidents'] / \n",
    "                                         flight_phase_analysis['Total_Accidents'] * 100)\n",
    "\n",
    "# Sort by fatality rate\n",
    "flight_phase_analysis = flight_phase_analysis.sort_values('Fatality_Rate', ascending=False)\n",
    "\n",
    "plt.figure(figsize=(12, 8))\n",
    "sns.barplot(x='Fatality_Rate', y=flight_phase_analysis.index, \n",
    "            data=flight_phase_analysis, palette='Reds_r')\n",
    "plt.xlabel('Fatality Rate (%)')\n",
    "plt.title('Fatality Rate by Flight Phase')\n",
    "plt.tight_layout()\n",
    "plt.show()\n",
    "\n",
    "print(\"Safest flight phase:\")\n",
    "print(flight_phase_analysis[['Total_Accidents', 'Fatal_Accidents', 'Fatality_Rate']].tail().reset_index())"
   ]
  },
  {
   "cell_type": "markdown",
   "id": "d1ecdc72",
   "metadata": {},
   "source": [
    "## Weather Impact on Safety"
   ]
  },
  {
   "cell_type": "code",
   "execution_count": 44,
   "id": "705858e9",
   "metadata": {},
   "outputs": [
    {
     "data": {
      "image/png": "[encoded data removed]",
      "text/plain": [
       "<Figure size 720x432 with 1 Axes>"
      ]
     },
     "metadata": {
      "needs_background": "light"
     },
     "output_type": "display_data"
    }
   ],
   "source": [
    "# Analyze weather impact\n",
    "weather_impact = df_clean.groupby('Weather.Condition').agg({\n",
    "    'Event.Id': 'count',\n",
    "    'Injury.Level': lambda x: (x == 'Fatal').sum()\n",
    "}).rename(columns={'Event.Id': 'Total_Accidents', 'Injury.Level': 'Fatal_Accidents'})\n",
    "\n",
    "weather_impact['Fatality_Rate'] = (weather_impact['Fatal_Accidents'] / \n",
    "                                  weather_impact['Total_Accidents'] * 100)\n",
    "\n",
    "# Filter for common weather conditions\n",
    "common_weather = weather_impact[weather_impact['Total_Accidents'] > 50]\n",
    "common_weather = common_weather.sort_values('Fatality_Rate', ascending=False)\n",
    "\n",
    "plt.figure(figsize=(10, 6))\n",
    "sns.barplot(x='Fatality_Rate', y=common_weather.index, data=common_weather, palette='Blues_r')\n",
    "plt.xlabel('Fatality Rate (%)')\n",
    "plt.title('Fatality Rate by Weather Condition (Minimum 50 Accidents)')\n",
    "plt.tight_layout()\n",
    "plt.show()"
   ]
  },
  {
   "cell_type": "markdown",
   "id": "6ebad9d1",
   "metadata": {},
   "source": [
    "### Aircraft Category Safety Analysis"
   ]
  },
  {
   "cell_type": "code",
   "execution_count": 45,
   "id": "04cfd983",
   "metadata": {},
   "outputs": [
    {
     "data": {
      "image/png": "[encoded data removed]",
      "text/plain": [
       "<Figure size 720x432 with 2 Axes>"
      ]
     },
     "metadata": {
      "needs_background": "light"
     },
     "output_type": "display_data"
    },
    {
     "name": "stdout",
     "output_type": "stream",
     "text": [
      "                   Total_Accidents  Fatal_Accidents  Fatality_Rate\n",
      "Aircraft.Category                                                 \n",
      "Rocket                           1                1     100.000000\n",
      "WSFT                             9                6      66.666667\n",
      "Weight-Shift                   161               54      33.540373\n",
      "Ultralight                      24                8      33.333333\n",
      "Helicopter                    3052              790      25.884666\n",
      "Gyrocraft                      153               37      24.183007\n",
      "Airplane                     24452             5161      21.106658\n",
      "Glider                         421               86      20.427553\n",
      "Powered Parachute               91               13      14.285714\n",
      "Balloon                        192               16       8.333333\n",
      "Blimp                            1                0       0.000000\n",
      "Powered-Lift                     2                0       0.000000\n",
      "ULTR                             1                0       0.000000\n"
     ]
    }
   ],
   "source": [
    "# Group by aircraft category\n",
    "category_summary = df_clean.groupby('Aircraft.Category').agg(\n",
    "    Total_Accidents=('Event.Id', 'count'),\n",
    "    Fatal_Accidents=('Total.Fatal.Injuries', lambda x: (x > 0).sum()),\n",
    "    Uninjured=('Total.Uninjured', 'sum')\n",
    ")\n",
    "\n",
    "# Calculate fatality and survival rates\n",
    "category_summary['Fatality_Rate'] = (\n",
    "    category_summary['Fatal_Accidents'] / category_summary['Total_Accidents'] * 100\n",
    ")\n",
    "category_summary['Survival_Rate'] = (\n",
    "    category_summary['Uninjured'] / category_summary['Total_Accidents'] * 100\n",
    ")\n",
    "\n",
    "# Clean and sort\n",
    "category_summary = (\n",
    "    category_summary[category_summary.index != 'Unknown Category']\n",
    "    .sort_values('Fatality_Rate', ascending=False)\n",
    ")\n",
    "\n",
    "fig, ax1 = plt.subplots(figsize=(10, 6))\n",
    "\n",
    "# Bar plot for fatality rate\n",
    "sns.barplot(\n",
    "    x='Fatality_Rate',\n",
    "    y=category_summary.index,\n",
    "    data=category_summary,\n",
    "    palette='Reds_r',\n",
    "    ax=ax1\n",
    ")\n",
    "ax1.set_xlabel('Fatality Rate (%)')\n",
    "ax1.set_ylabel('Aircraft Category')\n",
    "ax1.set_title('Fatal Accident Rate by Aircraft Category (with Accident Counts)')\n",
    "\n",
    "# Create a twin axis for accident counts\n",
    "ax2 = ax1.twiny()\n",
    "ax2.plot(\n",
    "    category_summary['Total_Accidents'],\n",
    "    category_summary.index,\n",
    "    'o-', color='steelblue', linewidth=2, markersize=6, label='Total Accidents'\n",
    ")\n",
    "ax2.set_xlabel('Number of Accidents')\n",
    "\n",
    "# Add value labels\n",
    "for i, (rate, count) in enumerate(zip(category_summary['Fatality_Rate'], category_summary['Total_Accidents'])):\n",
    "    ax1.text(rate + 0.5, i, f'{rate:.1f}%', va='center', fontweight='bold')\n",
    "    ax2.text(count + 20, i, f'{count:,}', va='center', fontweight='bold', color='steelblue')\n",
    "\n",
    "# Legends and layout\n",
    "ax2.legend(loc='lower left')\n",
    "plt.tight_layout()\n",
    "plt.show()\n",
    "\n",
    "# Summary table\n",
    "print(category_summary[['Total_Accidents', 'Fatal_Accidents', 'Fatality_Rate']])"
   ]
  },
  {
   "cell_type": "code",
   "execution_count": 46,
   "id": "9d851b07",
   "metadata": {},
   "outputs": [
    {
     "name": "stdout",
     "output_type": "stream",
     "text": [
      "DATASET EXPORTED SUCCESSFULLY!\n",
      "File: aviation_safety_cleaned.csv\n",
      "Records: 77,488\n",
      "Columns: 21\n"
     ]
    }
   ],
   "source": [
    "# Step 1: Create cleaned dataset with simplified weather categories\n",
    "tableau_export = df_clean.copy()\n",
    "\n",
    "# Simplify Weather Condition to Good/Bad/Unknown\n",
    "tableau_export['Weather_Simple'] = tableau_export['Weather.Condition'].replace({\n",
    "    'VMC': 'Good Weather',\n",
    "    'IMC': 'Bad Weather', \n",
    "    'Unknown': 'Unknown Weather'\n",
    "})\n",
    "\n",
    "# Calculate if the accident was fatal (for fatality rate calculation in Tableau)\n",
    "tableau_export['Is_Fatal_Accident'] = (tableau_export['Injury.Level'] == 'Fatal').astype(int)\n",
    "\n",
    "# Calculate if everyone survived (for survival rate calculation in Tableau)\n",
    "tableau_export['Is_Survival_Accident'] = (tableau_export['Injury.Level'] == 'None').astype(int)\n",
    "\n",
    "# Step 2: Export the single cleaned dataset\n",
    "tableau_export.to_csv('aviation_safety_cleaned.csv', index=False)\n",
    "\n",
    "# Step 3: Verify the export\n",
    "print(\"DATASET EXPORTED SUCCESSFULLY!\")\n",
    "print(f\"File: aviation_safety_cleaned.csv\")\n",
    "print(f\"Records: {len(tableau_export):,}\")\n",
    "print(f\"Columns: {len(tableau_export.columns)}\")"
   ]
  },
  {
   "cell_type": "code",
   "execution_count": 47,
   "id": "db5e3683",
   "metadata": {},
   "outputs": [
    {
     "name": "stdout",
     "output_type": "stream",
     "text": [
      "🎯 RECOMMENDATION 1: AIRCRAFT SELECTION STRATEGY\n",
      "Prioritize these SAFEST aircraft categories:\n",
      "- Balloons (8.3% fatality rate) - Safest category\n",
      "- Powered Parachutes (14.3% fatality rate)\n",
      "- Gliders (20.4% fatality rate)\n",
      "- Airplanes (21.1% fatality rate) - Best safety/experience balance\n",
      "\n",
      "🎯 RECOMMENDATION 2: MANUFACTURER PARTNERSHIPS\n",
      "Partner with these SAFEST manufacturers:\n",
      "- Airbus (58.0% fatality rate) - Safest major manufacturer\n",
      "- Boeing (61.7% fatality rate) - Best safety with high experience\n",
      "\n",
      "🎯 RECOMMENDATION 3: OPERATIONAL SAFETY PROTOCOLS\n",
      "Focus training on HIGHEST RISK flight phases:\n",
      "- Descent (94.1% fatality rate) - Intensive training needed\n",
      "- Other phases (95.0% fatality rate) - Critical safety procedures\n"
     ]
    }
   ],
   "source": [
    "# =============================================================================\n",
    "# BUSINESS RECOMMENDATIONS\n",
    "# =============================================================================\n",
    "\n",
    "print(\"🎯 RECOMMENDATION 1: AIRCRAFT SELECTION STRATEGY\")\n",
    "print(\"Prioritize these SAFEST aircraft categories:\")\n",
    "print(\"- Balloons (8.3% fatality rate) - Safest category\")\n",
    "print(\"- Powered Parachutes (14.3% fatality rate)\") \n",
    "print(\"- Gliders (20.4% fatality rate)\")\n",
    "print(\"- Airplanes (21.1% fatality rate) - Best safety/experience balance\")\n",
    "\n",
    "print(\"\\n🎯 RECOMMENDATION 2: MANUFACTURER PARTNERSHIPS\") \n",
    "print(\"Partner with these SAFEST manufacturers:\")\n",
    "print(\"- Airbus (58.0% fatality rate) - Safest major manufacturer\")\n",
    "print(\"- Boeing (61.7% fatality rate) - Best safety with high experience\")\n",
    "\n",
    "print(\"\\n🎯 RECOMMENDATION 3: OPERATIONAL SAFETY PROTOCOLS\")\n",
    "print(\"Focus training on HIGHEST RISK flight phases:\")\n",
    "print(\"- Descent (94.1% fatality rate) - Intensive training needed\")\n",
    "print(\"- Other phases (95.0% fatality rate) - Critical safety procedures\")"
   ]
  }
 ],
 "metadata": {
  "kernelspec": {
   "display_name": "learn-env",
   "language": "python",
   "name": "python3"
  },
  "language_info": {
   "codemirror_mode": {
    "name": "ipython",
    "version": 3
   },
   "file_extension": ".py",
   "mimetype": "text/x-python",
   "name": "python",
   "nbconvert_exporter": "python",
   "pygments_lexer": "ipython3",
   "version": "3.8.5"
  }
 },
 "nbformat": 4,
 "nbformat_minor": 5
}
